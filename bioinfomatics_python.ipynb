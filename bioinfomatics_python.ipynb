{
 "cells": [
  {
   "cell_type": "code",
   "execution_count": 11,
   "metadata": {
    "ExecuteTime": {
     "end_time": "2018-03-10T14:04:08.548492Z",
     "start_time": "2018-03-10T14:04:08.539037"
    },
    "collapsed": false
   },
   "outputs": [
    {
     "data": {
      "text/plain": [
       "3"
      ]
     },
     "execution_count": 11,
     "metadata": {},
     "output_type": "execute_result"
    }
   ],
   "source": [
    "# Your code complexity score is 7.28 (best for this step is 3.0)\n",
    "# Your code complexity score is 6.78 (best for this step is 3.0).\n",
    "\n",
    "# complexity len(Text) * len(Pattern)\n",
    "# len(Text) due to the loop\n",
    "# len(Pattern) due to the comparison of each individual letter\n",
    "def PatternCount(Text, Pattern):\n",
    "    # fill in your function here\n",
    "    count = 0\n",
    "    lp = len(Pattern)\n",
    "    for i in range(len(Text) - lp + 1):\n",
    "        if Text[i: (i+lp)] == Pattern:\n",
    "            count +=1\n",
    "    return count\n",
    "    \n",
    " \n",
    "t = 'GCGCGCG'\n",
    "p= 'GCG'\n",
    "PatternCount(t, p)"
   ]
  },
  {
   "cell_type": "markdown",
   "metadata": {},
   "source": [
    "> Code Challenge: Solve the Frequent Words Problem.\n",
    "     Input: A string Text and an integer k.  \n",
    "     Output: All most frequent k-mers in Text.\n",
    "```     \n",
    "  FrequentWords(Text, k)\n",
    "    FrequentPatterns ← an empty set\n",
    "    for i ← 0 to |Text| − k\n",
    "        Pattern ← the k-mer Text(i, k)\n",
    "        Count(i) ← PatternCount(Text, Pattern)\n",
    "    maxCount ← maximum value in array Count\n",
    "    for i ← 0 to |Text| − k\n",
    "        if Count(i) = maxCount\n",
    "            add Text(i, k) to FrequentPatterns\n",
    "    remove duplicates from FrequentPatterns\n",
    "    return FrequentPatterns\n",
    "```"
   ]
  },
  {
   "cell_type": "code",
   "execution_count": null,
   "metadata": {
    "collapsed": true
   },
   "outputs": [],
   "source": []
  },
  {
   "cell_type": "code",
   "execution_count": 50,
   "metadata": {
    "ExecuteTime": {
     "end_time": "2018-03-11T14:46:47.900471Z",
     "start_time": "2018-03-11T14:46:47.861543"
    },
    "collapsed": false,
    "scrolled": true
   },
   "outputs": [
    {
     "name": "stdout",
     "output_type": "stream",
     "text": [
      "55\n"
     ]
    },
    {
     "data": {
      "text/plain": [
       "['tt']"
      ]
     },
     "execution_count": 50,
     "metadata": {},
     "output_type": "execute_result"
    }
   ],
   "source": [
    "import pandas as pd\n",
    "\n",
    "input_ = 'ACGTTGCATGTCGCATGATGCATGAGAGCT'\n",
    "k = 4\n",
    "\n",
    "\n",
    "# Your code complexity score is 17.26 (best for this step is 6.4)\n",
    "def FrequentWords(Text, k):\n",
    "    \n",
    "    dict_frequencies = {}\n",
    "    \n",
    "    ncounts = len(Text) - k + 1\n",
    "    for i in range(ncounts):\n",
    "        Pattern = Text[i: i + k]\n",
    "        if Pattern not in dict_frequencies.keys():\n",
    "            dict_frequencies[Pattern] = PatternCount(Text, Pattern)\n",
    "            \n",
    "    sr_ = pd.Series(dict_frequencies)\n",
    "    print sr_.max()\n",
    "    return sr_[sr_ == sr_.max()].index.tolist() \n",
    "\n",
    "\"\"\"\n",
    "# Your code complexity score is 19.34 (best for this step is 6.4).\n",
    "def FrequentWords(Text, k):\n",
    "    FrequentPatterns = set()\n",
    "      \n",
    "    ncounts = len(Text) - k + 1\n",
    "    Counts = [None] * (ncounts)\n",
    "    \n",
    "    for i in range(ncounts):\n",
    "        Pattern = Text[i: i + k]\n",
    "        Counts[i] = PatternCount(Text, Pattern)\n",
    "        #print i, Pattern, Counts[i]\n",
    "        \n",
    "    maxCount = max(Counts)\n",
    "    #print maxCount\n",
    "    for i in range(ncounts):\n",
    "        if Counts[i] == maxCount:\n",
    "            FrequentPatterns.add(Text[i: i + k])\n",
    "            \n",
    "    return FrequentPatterns\n",
    "\"\"\"\n",
    "    \n",
    "input_ = \"atcaatgatcaacgtaagcttctaagcatgatcaaggtgctcacacagtttatccacaacctgagtggatgacatcaagataggtcgttgtatctccttcctctcgtactctcatgaccacggaaagatgatcaagagaggatgatttcttggccatatcgcaatgaatacttgtgacttgtgcttccaattgacatcttcagcgccatattgcgctggccaaggtgacggagcgggattacgaaagcatgatcatggctgttgttctgtttatcttgttttgactgagacttgttaggatagacggtttttcatcactgactagccaaagccttactctgcctgacatcgaccgtaaattgataatgaatttacatgcttccgcgacgatttacctcttgatcatcgatccgattgaagatcttcaattgttaattctcttgcctcgactcatagccatgatgagctcttgatcatgtttccttaaccctctattttttacggaagaatgatcaagctgctgctcttgatcatcgtttc\"   \n",
    "FrequentWords(input_, 2)"
   ]
  },
  {
   "cell_type": "code",
   "execution_count": 41,
   "metadata": {
    "ExecuteTime": {
     "end_time": "2018-03-11T14:44:40.150150Z",
     "start_time": "2018-03-11T14:44:40.145044"
    },
    "collapsed": false
   },
   "outputs": [
    {
     "data": {
      "text/plain": [
       "540"
      ]
     },
     "execution_count": 41,
     "metadata": {},
     "output_type": "execute_result"
    }
   ],
   "source": [
    "len(input_)"
   ]
  }
 ],
 "metadata": {
  "anaconda-cloud": {},
  "kernelspec": {
   "display_name": "Python [Root]",
   "language": "python",
   "name": "Python [Root]"
  },
  "language_info": {
   "codemirror_mode": {
    "name": "ipython",
    "version": 2
   },
   "file_extension": ".py",
   "mimetype": "text/x-python",
   "name": "python",
   "nbconvert_exporter": "python",
   "pygments_lexer": "ipython2",
   "version": "2.7.13"
  },
  "toc": {
   "colors": {
    "hover_highlight": "#DAA520",
    "running_highlight": "#FF0000",
    "selected_highlight": "#FFD700"
   },
   "moveMenuLeft": true,
   "nav_menu": {
    "height": "12px",
    "width": "252px"
   },
   "navigate_menu": true,
   "number_sections": true,
   "sideBar": true,
   "threshold": 4,
   "toc_cell": false,
   "toc_section_display": "block",
   "toc_window_display": false,
   "widenNotebook": false
  }
 },
 "nbformat": 4,
 "nbformat_minor": 0
}
