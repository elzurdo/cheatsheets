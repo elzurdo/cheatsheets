{
 "cells": [
  {
   "cell_type": "markdown",
   "metadata": {},
   "source": [
    "# Resources\n",
    "\n",
    "* Johan K. Kruschke\n",
    "    * Bayesian Estimation Supersedes the t Test ([YouTube](https://www.youtube.com/watch?v=fhw1j1Ru2i0), [pdf](https://pdfs.semanticscholar.org/dea6/0927efbd1f284b4132eae3461ea7ce0fb62a.pdf), [PyMC3](https://docs.pymc.io/notebooks/BEST.html))\n",
    "* Visual Website Optimizer\n",
    "    * [Bayesian A/B Testing at VWO](https://cdn2.hubspot.net/hubfs/310840/VWO_SmartStats_technical_whitepaper.pdf)\n",
    "    * [What Is Smart Decision?](https://help.vwo.com/hc/en-us/articles/360033991153-What-Is-Smart-Decision-)\n",
    "* Bayesian A/B Testing: a step-by-step guide ([blog](http://www.claudiobellei.com/2017/11/02/bayesian-AB-testing/), [GitHub](https://github.com/cbellei/abyes))"
   ]
  },
  {
   "cell_type": "code",
   "execution_count": null,
   "metadata": {},
   "outputs": [],
   "source": []
  }
 ],
 "metadata": {
  "kernelspec": {
   "display_name": "Python 3",
   "language": "python",
   "name": "python3"
  },
  "language_info": {
   "codemirror_mode": {
    "name": "ipython",
    "version": 3
   },
   "file_extension": ".py",
   "mimetype": "text/x-python",
   "name": "python",
   "nbconvert_exporter": "python",
   "pygments_lexer": "ipython3",
   "version": "3.7.7"
  }
 },
 "nbformat": 4,
 "nbformat_minor": 4
}
