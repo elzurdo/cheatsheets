{
 "cells": [
  {
   "cell_type": "markdown",
   "metadata": {},
   "source": [
    "# Variablity in Point Estimates\n",
    "\n",
    "* Point Estimates are not exact\n",
    "* Sampling distribution: reperesents the distribution of the point estimates based on samples of a fixed size from a certain population. \n",
    "* Stadard Error of an estimate, $SE$: describes the typical error or uncertainty associated with the estimate. \n",
    "\n",
    "\n",
    "## Standard Error of the Mean\n",
    "\n",
    "Given $n$ independent observations from a population with standard deviation $\\sigma$ the standard error of the sample mean is equal to: \n",
    "\n",
    "$$\n",
    "SE = \\frac{\\sigma}{\\sqrt{n}}\\sim  \\frac{s}{\\sqrt{n}}\n",
    "$$\n",
    "\n",
    "In detail:\n",
    "* In order to ensure that sample observations are **independent**, a reliable method is to conduct a simple random sample consisting of ***less than 10%*** of the population. \n",
    "* Population standard deviations $\\sigma$ is typically unknown, but using the point estimate of the standard deviation of the sample, $s$. \n",
    "    * This is sufficiently good when the ***sample size*** is ***greater than 30*** (or equal) AND the population distribution is ***not strongly skewed***. \n",
    "    * If the sample size $<30$, we need a mtethod to account for extra uncerainty in the SE. [TBD].\n",
    "    * If the skew condition is not met, a larger sample is needed to compesnate for the extra skew. [TBD].\n",
    "\n",
    "## Confidence Intervals\n",
    "Plausable range of values of a parameter"
   ]
  },
  {
   "cell_type": "markdown",
   "metadata": {},
   "source": [
    "# Null Hypothesis Testing\n",
    "Also called *Classical Hypothesis Testing*. \n",
    "\n",
    "\n",
    "Main disadvantage:  \n",
    "Does not incorporate prior knowledge.  \n",
    "\n",
    "## p-value\n",
    "\n",
    "The probability of getting a result at least as extreme as the observed if the null hypothesis (and all other modelling assumptions) were true. \n",
    "\n",
    "The p-value is used in the context of null hypothesis testing in order to quantify the idea of statistical significance of evidence.  \n",
    "A result is said to be *statistically significant* if it allows us to reject the null hypothesis.  \n",
    "\n",
    "$$\n",
    "\\text{right tail:   Pr}(X\\ge x|H_0) \\\\ \\text{left tail:   Pr}(X\\le x|H_0) \\\\\n",
    "\\text{double tail:   2min[Pr}(X\\ge x|H_0),\\text{Pr}(X\\le x|H_0)]\n",
    "$$\n",
    "* $X$ random variable of which we observed value $x \\in X$.   \n",
    "\n",
    "The null hypothesis $H_0$ is rejected if any of these probabilities is less than or equal to a small, fixed but arbitrarily pre-defined threshold value of level of significance, $\\alpha$ \n",
    "\n",
    "## Confidence Intervals \n",
    "[TBD](https://en.wikipedia.org/wiki/Confidence_interval)\n",
    "\n",
    "## Likelihood Ratios\n",
    "[TBD](https://en.wikipedia.org/wiki/Likelihood_principle#The_law_of_likelihood)"
   ]
  },
  {
   "cell_type": "markdown",
   "metadata": {},
   "source": [
    "# Bayesian Hypothesis Testing\n",
    "\n",
    "## Bayes Factor\n",
    "[TBD](https://en.wikipedia.org/wiki/Bayes_factor)   \n",
    "Used in Bayesian model comparison. \n",
    "he aim of the Bayes factor is to quantify the support for a model over another, regardless of whether these models are correct.\n",
    "\n",
    "$$\n",
    "K = \\frac{\\text{Pr}(D|M_1)}{\\text{Pr}(D|M_2)}=\\frac{\\text{Pr}(M_1|D)\\text{Pr}(M_2)}{\\text{Pr}(M_2|D)\\text{Pr}(M_1)}\n",
    "$$\n",
    "\n",
    "Harold Jeffery's scale (TBD)"
   ]
  },
  {
   "cell_type": "markdown",
   "metadata": {},
   "source": [
    "# Resources\n",
    "\n",
    "* OpenIntro Statistics Diez, Barr, Çetinkaya-Rundel ([site](https://www.openintro.org/), [book](https://www.amazon.co.uk/OpenIntro-Statistics-Third-David-Diez/dp/194345003X), [coursera](https://www.coursera.org/learn/inferential-statistics-intro))\n",
    "* Johan K. Kruschke\n",
    "    * Bayesian Estimation Supersedes the t Test ([YouTube](https://www.youtube.com/watch?v=fhw1j1Ru2i0), [pdf](https://pdfs.semanticscholar.org/dea6/0927efbd1f284b4132eae3461ea7ce0fb62a.pdf), [PyMC3](https://docs.pymc.io/notebooks/BEST.html))\n",
    "* Visual Website Optimizer\n",
    "    * [Bayesian A/B Testing at VWO](https://cdn2.hubspot.net/hubfs/310840/VWO_SmartStats_technical_whitepaper.pdf)\n",
    "    * [What Is Smart Decision?](https://help.vwo.com/hc/en-us/articles/360033991153-What-Is-Smart-Decision-)\n",
    "* Bayesian A/B Testing: a step-by-step guide ([blog](http://www.claudiobellei.com/2017/11/02/bayesian-AB-testing/), [GitHub](https://github.com/cbellei/abyes))"
   ]
  }
 ],
 "metadata": {
  "kernelspec": {
   "display_name": "Python 3",
   "language": "python",
   "name": "python3"
  },
  "language_info": {
   "codemirror_mode": {
    "name": "ipython",
    "version": 3
   },
   "file_extension": ".py",
   "mimetype": "text/x-python",
   "name": "python",
   "nbconvert_exporter": "python",
   "pygments_lexer": "ipython3",
   "version": "3.7.7"
  },
  "toc": {
   "base_numbering": 1,
   "nav_menu": {},
   "number_sections": true,
   "sideBar": true,
   "skip_h1_title": false,
   "title_cell": "Table of Contents",
   "title_sidebar": "Contents",
   "toc_cell": false,
   "toc_position": {},
   "toc_section_display": true,
   "toc_window_display": false
  }
 },
 "nbformat": 4,
 "nbformat_minor": 4
}
