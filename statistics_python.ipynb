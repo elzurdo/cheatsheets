{
 "cells": [
  {
   "cell_type": "markdown",
   "metadata": {},
   "source": [
    "# Combinatorics\n",
    "\n",
    "## Permutations \n",
    "When order matters\n",
    "\n",
    "An ordered arrangement of $k$ objects from a set of $n$\n",
    "\n",
    "$$\n",
    "_nP_k=\\frac{n!}{(n-k)!}\n",
    "$$"
   ]
  },
  {
   "cell_type": "code",
   "execution_count": 54,
   "metadata": {
    "ExecuteTime": {
     "end_time": "2020-03-20T10:34:17.199450Z",
     "start_time": "2020-03-20T10:34:17.189851Z"
    }
   },
   "outputs": [
    {
     "name": "stdout",
     "output_type": "stream",
     "text": [
      "2432902008176640000\n",
      "2432902008176640000\n"
     ]
    }
   ],
   "source": [
    "from math import factorial\n",
    "\n",
    "def simplistic_factorial(n):\n",
    "    assert isinstance(n, int)\n",
    "    \n",
    "    if n == 0:\n",
    "        return 1\n",
    "    \n",
    "    factor = simplistic_factorial(n-1)\n",
    "    \n",
    "    return factor * n\n",
    "    \n",
    "k = 20\n",
    "\n",
    "print(factorial(k))\n",
    "print(simplistic_factorial(k))"
   ]
  },
  {
   "cell_type": "code",
   "execution_count": 9,
   "metadata": {
    "ExecuteTime": {
     "end_time": "2020-03-18T15:03:21.555751Z",
     "start_time": "2020-03-18T15:03:21.539696Z"
    }
   },
   "outputs": [
    {
     "data": {
      "text/plain": [
       "30"
      ]
     },
     "execution_count": 9,
     "metadata": {},
     "output_type": "execute_result"
    }
   ],
   "source": [
    "n = 6\n",
    "k = 2\n",
    "\n",
    "int(factorial(n)/factorial(n - k))"
   ]
  },
  {
   "cell_type": "code",
   "execution_count": 3,
   "metadata": {
    "ExecuteTime": {
     "end_time": "2020-03-18T14:58:46.957026Z",
     "start_time": "2020-03-18T14:58:46.950210Z"
    }
   },
   "outputs": [
    {
     "name": "stdout",
     "output_type": "stream",
     "text": [
      "[(1, 2, 3), (1, 3, 2), (2, 1, 3), (2, 3, 1), (3, 1, 2), (3, 2, 1)]\n",
      "[(1, 2), (1, 3), (2, 1), (2, 3), (3, 1), (3, 2)]\n",
      "[(1, 1), (1, 3), (1, 1), (1, 3), (3, 1), (3, 1)]\n"
     ]
    }
   ],
   "source": [
    "from itertools import permutations \n",
    "\n",
    "\n",
    "# All permutations of [1, 2, 3] \n",
    "print(list(permutations([1, 2, 3])))\n",
    "\n",
    "# All permutations of pairs consisting of [1, 2, 3] \n",
    "print(list(permutations([1, 2, 3], 2)))\n",
    "\n",
    "# All permutations of pairs consisting of [1, 1, 3] \n",
    "print(list(permutations([1, 1, 3], 2)))"
   ]
  },
  {
   "cell_type": "markdown",
   "metadata": {},
   "source": [
    "## Combinations\n",
    "When order does not matter\n",
    "\n",
    "Aan unordered arrangement of $k$ objects from a set of $n$\n",
    "$$\n",
    "_nC_k=\\frac{n!}{(n-k)!k!}\\equiv {n \\choose k}\n",
    "$$"
   ]
  },
  {
   "cell_type": "code",
   "execution_count": 4,
   "metadata": {
    "ExecuteTime": {
     "end_time": "2020-03-18T14:59:01.141849Z",
     "start_time": "2020-03-18T14:59:00.887495Z"
    }
   },
   "outputs": [],
   "source": [
    "from scipy.special import comb"
   ]
  },
  {
   "cell_type": "code",
   "execution_count": 5,
   "metadata": {
    "ExecuteTime": {
     "end_time": "2020-03-18T14:59:02.847045Z",
     "start_time": "2020-03-18T14:59:02.839818Z"
    }
   },
   "outputs": [
    {
     "name": "stdout",
     "output_type": "stream",
     "text": [
      "15\n",
      "15\n"
     ]
    }
   ],
   "source": [
    "n = 6\n",
    "k = 2\n",
    "\n",
    "print(int(factorial(n)/factorial(k)/factorial(n-k)))\n",
    "print(int(comb(n, k, repetition=False)))"
   ]
  },
  {
   "cell_type": "code",
   "execution_count": 6,
   "metadata": {
    "ExecuteTime": {
     "end_time": "2020-03-18T14:59:15.426666Z",
     "start_time": "2020-03-18T14:59:15.421751Z"
    }
   },
   "outputs": [
    {
     "name": "stdout",
     "output_type": "stream",
     "text": [
      "[(1, 2), (1, 3), (2, 3)]\n",
      "[(1, 1), (1, 3), (1, 3)]\n"
     ]
    }
   ],
   "source": [
    "from itertools import combinations \n",
    "\n",
    "# All combinations of pairs consisting of [1, 2, 3] \n",
    "print(list(combinations([1, 2, 3], 2)))\n",
    "# All combinations of pairs consisting of [1, 1, 3] \n",
    "print(list(combinations([1, 1, 3], 2)))"
   ]
  },
  {
   "cell_type": "markdown",
   "metadata": {},
   "source": [
    "# Probabilities"
   ]
  },
  {
   "cell_type": "markdown",
   "metadata": {
    "ExecuteTime": {
     "end_time": "2020-03-21T13:17:57.554255Z",
     "start_time": "2020-03-21T13:17:57.539926Z"
    }
   },
   "source": [
    "$P(A)$ - Marginal Probability of event $A$\n",
    "\n",
    "**Compound event**  \n",
    "combination of 2 or more events  \n",
    "$P(A\\cap B)\\equiv P(A, B)$ - Joint Probability of events $A$ and $B$ ( `and` rule - think Venn Diagram)   \n",
    "$P(A|B)$ - Conditional Probability (of $A$ happening given $B$ occured)  \n",
    "$P(A\\cap B) = P(A|B)P(B)$ - Chain rule\n",
    "$$\n",
    " P(A|B) = \\frac{P(A\\cap B)}{P(B)}\n",
    "$$\n",
    "\n",
    "$P(A\\cup B) = P(A) + P(B) - P(A\\cap B)$  (`or` rule - think Venn Diagram)\n",
    "\n",
    "**Event Relationships**  \n",
    "$P(A|B) = P(A)$ - When $A$ is *independent* of $B$.  \n",
    "$P(A \\cup B) = P(A)+P(B)$ - When $A$ and $B$ are *disjoint* events ($P(A\\cap B)=0$)    \n",
    "$P(A \\cup B)=1$ - When $A$ and $B$ are *mutually exhaustive*  \n",
    "\n",
    "**Bayes' Theorem** \n",
    "$$\n",
    "P(A|B) = \\frac{P(B|A)P(A)}{P(B)} = \\frac{P(B|A)P(A)}{P(B|A)P(A) + P(B|A^c)P(A^c)}\n",
    "$$\n",
    "\n",
    "Model form:  \n",
    "$$\n",
    "P(\\Theta|\\text{data}) = \\frac{P(\\text{data}|\\Theta)P(\\Theta)}{P(\\text{data})}\n",
    "$$\n",
    "\n",
    "\n",
    "$P(\\Theta|\\text{data})$ - posterior distribution of parameters $\\Theta$ given `data` has been observed    \n",
    "$P(\\Theta)$ - prior distribution of parameters $\\Theta$   \n",
    "$P(\\text{data}|\\Theta)$ - the likelihood distribution $L(\\text{data})$. \n"
   ]
  },
  {
   "cell_type": "markdown",
   "metadata": {},
   "source": [
    "# Discrete Random Variables\n",
    "\n",
    "## Variance\n",
    "\n",
    "For descrete variables\n",
    "$$\n",
    "\\text{Var}(X) = \\text{E}[(X-\\text{E}[X])^2] = \\text{E}[X^2] - \\text{E}[X]^2\n",
    "$$\n",
    "\n",
    "## Standard Deviation \n",
    "A measure of the amount of variation or dispersion of a set of values.  \n",
    "**Population Standard Deviation**\n",
    "$$\n",
    "S = \\sqrt{ \\frac{\\sum_i^N \\left(X_i-\\bar{X} \\right)^2}{N}}\n",
    "$$\n",
    "**Sample Standard Deviation** (Estimator)   \n",
    "The following is the unbiased estimator if the variance exists and the sample values are drawn independently **with replacement**. There are $N-1$ degrees of freedom (because of the dependence on $\\bar{X}$). \n",
    "$$\n",
    "S = \\sqrt{ \\frac{\\sum_i^N \\left(X_i-\\bar{X} \\right)^2}{N-1}}\n",
    "$$\n",
    "$S^2$ is the unbiased estimator of the **population variance**, though $S$ is still a biased estimator for the **population standard deviation**.  "
   ]
  },
  {
   "cell_type": "code",
   "execution_count": 265,
   "metadata": {
    "ExecuteTime": {
     "end_time": "2020-03-23T09:28:26.127644Z",
     "start_time": "2020-03-23T09:28:26.117949Z"
    }
   },
   "outputs": [
    {
     "name": "stdout",
     "output_type": "stream",
     "text": [
      "mean: 6.730000000000001, 6.73\n"
     ]
    }
   ],
   "source": [
    "from statistics import mean\n",
    "\n",
    "xs = [10.0, 9.8, 8.0, 7.8, 7.7, 7.0, 6.0, 5.0, 4.0, 2.0]\n",
    "\n",
    "# --- Mean ---\n",
    "mean_ = sum(xs)/len(xs)\n",
    "\n",
    "print(f'mean: {mean_}, {mean(xs)}')"
   ]
  },
  {
   "cell_type": "code",
   "execution_count": 273,
   "metadata": {
    "ExecuteTime": {
     "end_time": "2020-03-23T09:31:33.880334Z",
     "start_time": "2020-03-23T09:31:33.873383Z"
    }
   },
   "outputs": [
    {
     "name": "stdout",
     "output_type": "stream",
     "text": [
      "population variance: 5.724100000000002, 5.724100000000001\n"
     ]
    }
   ],
   "source": [
    "from statistics import mean, pvariance\n",
    "\n",
    "xs = [10.0, 9.8, 8.0, 7.8, 7.7, 7.0, 6.0, 5.0, 4.0, 2.0]\n",
    "\n",
    "def sum_squares(l):\n",
    "    mean_ = mean(l)\n",
    "    return sum([(l[idx] - mean_)**2 for idx in range(len(l))])\n",
    "\n",
    "def simple_pvariance(l):\n",
    "    dof = len(l)\n",
    "        \n",
    "    return sum_squares(l)/dof\n",
    "\n",
    "print(f'population variance: {simple_pvariance(xs)}, {pvariance(xs)}')"
   ]
  },
  {
   "cell_type": "code",
   "execution_count": 276,
   "metadata": {
    "ExecuteTime": {
     "end_time": "2020-03-23T09:37:46.467684Z",
     "start_time": "2020-03-23T09:37:46.459379Z"
    }
   },
   "outputs": [
    {
     "name": "stdout",
     "output_type": "stream",
     "text": [
      "sample variance: 6.360111111111113, 6.360111111111111\n",
      "sample standard deviation: 2.5219260716981995, 2.5219260716981995\n"
     ]
    }
   ],
   "source": [
    "from statistics import mean, variance, stdev\n",
    "\n",
    "def simple_variance(l):\n",
    "    dof = len(l) - 1\n",
    "    return sum_squares(l)/dof\n",
    "\n",
    "print(f'sample variance: {simple_variance(xs)}, {variance(xs)}')\n",
    "print(f'sample standard deviation: {simple_variance(xs)**0.5}, {stdev(xs)}')"
   ]
  },
  {
   "cell_type": "markdown",
   "metadata": {},
   "source": [
    "## Covariance\n",
    "A measure of how two random variables change together, or the strength of their correlation.\n",
    "\n",
    "$$\n",
    "\\text{cov}(X,Y) = \\text{E}\\left[ \\left(X - \\text{E}[X] \\right)\\left(Y - \\text{E}[Y] \\right) \\right]  =  \\text{E}[XY] - \\text{E}[X]\\text{E}[Y] =\\\\ \n",
    "\\frac{1}{N}\\sum_{i=1}^N\\left(X_i - \\bar{X}\\right)\\left(Y_i - \\bar{Y}\\right)\n",
    "$$\n",
    "\n",
    "## Pearson Correlation Coefficient\n",
    "\n",
    "$$\n",
    "\\rho_{X,Y} = \\frac{\\text{cov}(X,Y)}{\\sigma_X\\sigma_Y}\n",
    "$$"
   ]
  },
  {
   "cell_type": "code",
   "execution_count": 294,
   "metadata": {
    "ExecuteTime": {
     "end_time": "2020-03-23T09:42:04.064316Z",
     "start_time": "2020-03-23T09:42:04.056544Z"
    }
   },
   "outputs": [
    {
     "name": "stdout",
     "output_type": "stream",
     "text": [
      "Pearson R: 0.612472193720848,  0.6124721937208482\n"
     ]
    }
   ],
   "source": [
    "from statistics import mean, pvariance\n",
    "from scipy.stats import pearsonr\n",
    "\n",
    "xs = [10.0, 9.8, 8.0, 7.8, 7.7, 7.0, 6.0, 5.0, 4.0, 2.0]\n",
    "ys = [200.0, 44.0, 32.0, 24.0, 22.0, 17.0, 15.0, 12.0, 8.0, 4.0]\n",
    "\n",
    "mean_x = mean(xs)\n",
    "mean_y = mean(ys)\n",
    "\n",
    "cov_xy = sum([(xs[idx] - mean_x) * (ys[idx] - mean_y) for idx in range(len(xs))]) / len(xs)\n",
    "std_x = pvariance(xs) ** 0.5\n",
    "std_y = pvariance(ys) ** 0.5\n",
    "\n",
    "\n",
    "pearsonr_ = cov_xy / std_x/ std_y\n",
    "\n",
    "print(f'Pearson R: {pearsonr_},  {pearsonr(xs, ys)[0]}')"
   ]
  },
  {
   "cell_type": "markdown",
   "metadata": {
    "ExecuteTime": {
     "end_time": "2020-03-23T08:37:59.923753Z",
     "start_time": "2020-03-23T08:37:59.917779Z"
    }
   },
   "source": [
    "## Spearman's Rank Correlation Coefficient\n",
    "\n",
    "\n",
    "Special case where $X$ and $Y$  don't contain duplicates\n",
    "$$\n",
    "\\rho_s = 1 - \\frac{6 \\sum_{i=1}^N d_i^2}{n(n^2-1)}\n",
    "$$\n",
    "\n",
    "$d_i=\\text{Rank}(X_i) - \\text{Rank}(Y_i)$ "
   ]
  },
  {
   "cell_type": "code",
   "execution_count": 371,
   "metadata": {
    "ExecuteTime": {
     "end_time": "2020-03-23T10:13:31.792054Z",
     "start_time": "2020-03-23T10:13:31.779434Z"
    }
   },
   "outputs": [
    {
     "name": "stdout",
     "output_type": "stream",
     "text": [
      "Spearman R: 0.9030303030303031, 0.9030303030303028\n"
     ]
    }
   ],
   "source": [
    "from scipy.stats import spearmanr\n",
    "\n",
    "xs = [10, 9.8, 8, 7.8, 7.7, 1.7, 6, 5, 1.4, 2]\n",
    "ys = [200, 44, 32, 24, 22, 17, 15, 12, 8, 4]\n",
    "\n",
    "def rank_list(l):\n",
    "    n = len(l)\n",
    "    ranks = [None] * n\n",
    "    indices = list(range(len(l)))\n",
    "    indices.sort(key=lambda x: l[x])\n",
    "    for rank, idx in enumerate(indices):\n",
    "        ranks[idx] = rank + 1\n",
    "        \n",
    "    return ranks\n",
    "\n",
    "def simple_spearman(xs, ys):\n",
    "    xs_ranks = rank_list(xs)\n",
    "    ys_ranks = rank_list(ys)\n",
    "\n",
    "    n = len(xs)\n",
    "    d2 = sum([(xs_ranks[idx] - ys_ranks[idx])**2 for idx in range(n)])\n",
    "\n",
    "    return 1 - 6 * d2/n/(n**2-1)\n",
    "\n",
    "print(f'Spearman R: {simple_spearman(xs, ys)}, {spearmanr(xs, ys)[0]}')"
   ]
  },
  {
   "cell_type": "markdown",
   "metadata": {},
   "source": [
    "## Central Limit Theorem\n",
    "\n",
    "If $X_1 , X_2 , ... , X_n$ is a random sample of size n taken from a population (either finite or infinite) with mean $\\mu$ and finite variance $\\sigma^2$ and if $\\bar{X}$ is the sample mean, the limiting form of the distribution of \n",
    "\n",
    "$$\n",
    "Z=\\left({\\frac {{\\bar {X}}-\\mu }{\\sigma /\\surd n}}\\right)\n",
    "$$ as n → ∞, is the standard normal distribution."
   ]
  },
  {
   "cell_type": "code",
   "execution_count": 127,
   "metadata": {
    "ExecuteTime": {
     "end_time": "2020-03-22T08:42:01.366552Z",
     "start_time": "2020-03-22T08:42:01.360864Z"
    }
   },
   "outputs": [
    {
     "name": "stdout",
     "output_type": "stream",
     "text": [
      "for 100 items with mu=500 and sigma=80\n",
      "95% of the values are between 484.32 and 515.68 (using z*=1.96)\n"
     ]
    }
   ],
   "source": [
    "from math import sqrt\n",
    "\n",
    "n = 100   # for n items\n",
    "mu = 500  # with mean mu\n",
    "sigma = 80 # and std sigma\n",
    "z = 1.96\n",
    "\n",
    "sigma_ = sigma/sqrt(n)\n",
    "low_ = round(mu - z * sigma_,2)\n",
    "high_ = round(mu + z * sigma_,2)\n",
    "\n",
    "print(fr'for {n} items with mu={mu} and sigma={sigma}')\n",
    "print(f'95% of the values are between {low_} and {high_} (using z*={z})')"
   ]
  },
  {
   "cell_type": "code",
   "execution_count": 143,
   "metadata": {
    "ExecuteTime": {
     "end_time": "2020-03-22T08:47:24.732340Z",
     "start_time": "2020-03-22T08:47:24.722892Z"
    }
   },
   "outputs": [
    {
     "name": "stdout",
     "output_type": "stream",
     "text": [
      "for 100 items with mu=50 and sigma=10\n",
      "there is a 84.1% chance of having sum at value 5100.0\n"
     ]
    }
   ],
   "source": [
    "from math import erf, sqrt\n",
    "\n",
    "def phi(x):\n",
    "    'Cumulative distribution function for the standard normal distribution'\n",
    "    return (1.0 + erf(x / sqrt(2.0))) / 2.0\n",
    "\n",
    "def cumulative_norm(x, mu=0, sigma=1):\n",
    "    z = (x-mu)/sigma\n",
    "    \n",
    "    return phi(z)\n",
    "\n",
    "n = 100   # for n items\n",
    "mu = 50 # with mean mu\n",
    "sigma = 10 # and std sigma\n",
    "x = mu * n + sigma * sqrt(n)\n",
    "\n",
    "mu_ = mu * n\n",
    "sigma_ = sigma * sqrt(n)\n",
    "prob = cumulative_norm(x, mu_, sigma_)\n",
    "\n",
    "print(f'for {n} items with mu={mu} and sigma={sigma}')\n",
    "print(f'there is a {prob*100:0.1f}% chance of having sum at value {x:0.1f}')"
   ]
  },
  {
   "cell_type": "markdown",
   "metadata": {},
   "source": [
    "## Entropy\n",
    "\n",
    "Given a random variable $X$, with possible outcomes $x_{i}$, each with probability $P_{X}(x_{i})$, the entropy $H(X)$ of $X$ is  \n",
    "\n",
    "$$\n",
    "H(X) = - \\Sigma_i P_X(x_i) \\text{log}_b P_X(x_i)\n",
    "$$\n",
    "\n",
    "$b$ - base of logarithm"
   ]
  },
  {
   "cell_type": "code",
   "execution_count": 162,
   "metadata": {
    "ExecuteTime": {
     "end_time": "2020-03-22T11:58:57.457969Z",
     "start_time": "2020-03-22T11:58:57.431000Z"
    }
   },
   "outputs": [
    {
     "name": "stdout",
     "output_type": "stream",
     "text": [
      "In base e\n",
      "0.6931471805599453\n",
      "0.6931471805599453\n",
      "In Shannons (base 2)\n",
      "1.0\n",
      "1.0\n"
     ]
    }
   ],
   "source": [
    "from scipy.stats import entropy\n",
    "\n",
    "# fair coin\n",
    "pxs = [0.5, 0.5]  # 50% tails, 50% heads\n",
    "\n",
    "h = 0\n",
    "for px in pxs:\n",
    "    h -= px * np.log(px)\n",
    "\n",
    "print('In base e')\n",
    "print(h)\n",
    "print(entropy(pxs))\n",
    "\n",
    "print('In Shannons (base 2)')\n",
    "print(h/np.log(2))\n",
    "print(entropy(pxs, base=2))"
   ]
  },
  {
   "cell_type": "code",
   "execution_count": 157,
   "metadata": {
    "ExecuteTime": {
     "end_time": "2020-03-22T11:57:38.363510Z",
     "start_time": "2020-03-22T11:57:38.357650Z"
    }
   },
   "outputs": [
    {
     "name": "stdout",
     "output_type": "stream",
     "text": [
      "2.584962500721156\n"
     ]
    }
   ],
   "source": [
    "# fair die (higher entropy than fair coin!)\n",
    "pxs = [1./6] * 6\n",
    "\n",
    "print(entropy(pxs, base=2)) # Shannons"
   ]
  },
  {
   "cell_type": "markdown",
   "metadata": {},
   "source": [
    "# Distributions\n",
    "\n",
    "**Cumulative Probability**\n",
    "\n",
    "The cumulative distribution function of real-valued random variable $X$ evaluated at $x$  is the probability that $X$ will take a value less than or equal to $x$:\n",
    "$$\n",
    "F_X(x) = P(X\\le x)\n",
    "$$\n",
    "\n",
    "also\n",
    "$$\n",
    "P(a \\le X\\le b) = F_X(b)- F_X(a)\n",
    "$$"
   ]
  },
  {
   "cell_type": "markdown",
   "metadata": {},
   "source": [
    "## Bernouli/Binomial \n",
    "\n",
    "### Binomial Experiment\n",
    "Also called Bernoulli trial\n",
    "\n",
    "A statistical experiment that has the following properties:  \n",
    "* The experiment consists of  repeated trials.\n",
    "* The trials are independent.\n",
    "* The outcome of each trial is either success ($s$) or failure ($f$).\n",
    "\n",
    "### Binomial Distribution \n",
    "Also called Bernouli \n",
    "\n",
    "The probability distribution of $k$  successes in $n$ independent Bernoulli experiments, each with probability of success $p$. \n",
    "\n",
    "Probability mass function:\n",
    "$$\n",
    "b(k,n,p) = {n \\choose k} p^k (1-p)^{(n-k)}\n",
    "$$\n",
    "\n",
    "It is often used to model the number successes in sample size ***with replacement*** from a population size $N$ (for without replacement see [Hypergeometric Distribution](#Hypergeometric-Distribution))\n",
    "\n",
    "**Bernouli Distribution**  \n",
    "Is a specific case of Binomial of $b(k,1,p)$ where $k=0,1$.\n",
    "\n",
    "Probability mass function:\n",
    "$$\n",
    "b(k,1,p) = {1 \\choose k} p^k (1-p)^{(1-k)}\n",
    "$$"
   ]
  },
  {
   "cell_type": "code",
   "execution_count": 7,
   "metadata": {
    "ExecuteTime": {
     "end_time": "2020-03-18T14:59:28.203564Z",
     "start_time": "2020-03-18T14:59:28.196740Z"
    }
   },
   "outputs": [
    {
     "data": {
      "text/plain": [
       "0.24609375"
      ]
     },
     "execution_count": 7,
     "metadata": {},
     "output_type": "execute_result"
    }
   ],
   "source": [
    "from scipy.special import comb\n",
    "\n",
    "# probability of k successes in n trials\n",
    "p = 0.5\n",
    "n = 10\n",
    "k = 5\n",
    "\n",
    "comb(n, k) * (p**k) * ( (1-p)**(n-k))"
   ]
  },
  {
   "cell_type": "code",
   "execution_count": 8,
   "metadata": {
    "ExecuteTime": {
     "end_time": "2020-03-18T15:00:45.174695Z",
     "start_time": "2020-03-18T15:00:45.165581Z"
    }
   },
   "outputs": [
    {
     "data": {
      "text/plain": [
       "0.623046875"
      ]
     },
     "execution_count": 8,
     "metadata": {},
     "output_type": "execute_result"
    }
   ],
   "source": [
    "pp = 0  # probability of having k successes within ks of n trials\n",
    "\n",
    "#ks = [5, 6, 7, 8, 9, 10]\n",
    "ks = [0, 1, 2, 3, 4, 5]\n",
    "\n",
    "for k in ks:\n",
    "    pp += comb(n, k) * (p**k) * ( (1-p)**(n-k))\n",
    "    \n",
    "pp"
   ]
  },
  {
   "cell_type": "markdown",
   "metadata": {},
   "source": [
    "\n",
    "\n",
    "### Geometric Distribution \n",
    "One of two descrete distributions:\n",
    "* The probability distribution of the number $X$ of Bernoulli trials needed to get one success, supported on the set $k = \\{1, 2, 3, ... \\}$.\n",
    "\n",
    "$$\n",
    "Pr(X=k) = (1-p)^{k-1}p, \\ \\ \\ \\ \\ \\text{for} \\ k=1,2,3...\n",
    "$$\n",
    "\n",
    "* The probability distribution of the number $Y = X − 1$ of failures before the first success, supported on the set $k = \\{ 0, 1, 2, ... \\}$\n",
    "$$\n",
    "Pr(Y=k) = (1-p)^kp, \\ \\ \\ \\ \\ \\text{for} \\ k=0,1,2,...\n",
    "$$\n",
    "\n",
    "\n",
    "\n",
    "Which of these one calls \"the\" geometric distribution is a matter of convention and convenience.\n",
    "\n",
    "In either case, the sequence of probabilities is a geometric sequence (i.e, $r^k$)\n",
    "\n",
    "**Requirements**  \n",
    "* The phenomenon being modeled is a sequence of independent trials.\n",
    "* There are only two possible outcomes for each trial, often designated success or failure.\n",
    "* The probability of success, $p$, is the same for every trial.\n",
    "\n",
    "\n",
    "**Related**    \n",
    "Negative Binomial Experiment,  Negative Binomial Distribution\n"
   ]
  },
  {
   "cell_type": "code",
   "execution_count": 91,
   "metadata": {
    "ExecuteTime": {
     "end_time": "2020-03-18T14:45:57.806542Z",
     "start_time": "2020-03-18T14:45:57.781987Z"
    }
   },
   "outputs": [
    {
     "name": "stdout",
     "output_type": "stream",
     "text": [
      "0.0625\n"
     ]
    },
    {
     "data": {
      "text/plain": [
       "0.0625"
      ]
     },
     "execution_count": 91,
     "metadata": {},
     "output_type": "execute_result"
    }
   ],
   "source": [
    "p = 1/2. # probability of giving birth to a girl\n",
    "\n",
    "# probability of giving birth to a girl on the 4th try\n",
    "k = 4  \n",
    "print((1-p)**(k-1)*p)\n",
    "\n",
    "# probability of having 3 boys before the first girl\n",
    "k = 3\n",
    "(1-p)**k * p"
   ]
  },
  {
   "cell_type": "code",
   "execution_count": 104,
   "metadata": {
    "ExecuteTime": {
     "end_time": "2020-03-18T14:53:50.206569Z",
     "start_time": "2020-03-18T14:53:50.198745Z"
    }
   },
   "outputs": [
    {
     "name": "stdout",
     "output_type": "stream",
     "text": [
      "0.8683127572016461\n",
      "0.868312757201646\n"
     ]
    }
   ],
   "source": [
    "p = 1./3  # probability of failing an inspection\n",
    "\n",
    "pp = 0    # What is the probability that the 1st defect is found during the first 5 inspections?\n",
    "\n",
    "max_k = 5\n",
    "for k in range(0, max_k):\n",
    "    pp += (1-p)**k * p    \n",
    "\n",
    "print(pp)\n",
    "\n",
    "# better method (imagine max_k>1000)\n",
    "pp_inv = (1-p)**max_k # probablity that passing inspection in all 5 inspections\n",
    "print(1- pp_inv)\n"
   ]
  },
  {
   "cell_type": "markdown",
   "metadata": {},
   "source": [
    "### Hypergeometric Distribution\n",
    "\n",
    "The probability of sampling ***without replacement*** $k$ successes in a sample of $n$ from a population of total $N$ and $K$ total successes.\n",
    "\n",
    "Probability Mass Function:\n",
    "$$\n",
    "P(X=k) = \\frac{ {K \\choose k} { {N-K} \\choose {n-k} } }{N \\choose n}\n",
    "$$"
   ]
  },
  {
   "cell_type": "code",
   "execution_count": 25,
   "metadata": {
    "ExecuteTime": {
     "end_time": "2020-03-20T09:59:09.125756Z",
     "start_time": "2020-03-20T09:59:09.118547Z"
    }
   },
   "outputs": [
    {
     "name": "stdout",
     "output_type": "stream",
     "text": [
      "0.10812795900674416\n",
      "0.1081279590067445\n"
     ]
    }
   ],
   "source": [
    "# Example: extracting balls from an urn, \n",
    "# where the balls are either green (success) or red. \n",
    "from scipy.special import comb\n",
    "from scipy.stats import hypergeom\n",
    "\n",
    "N=100  # total balls\n",
    "K=60   # red balls\n",
    "n=10   # choosing total 10 balls\n",
    "k=4    # of which are red\n",
    "\n",
    "print(comb(K,k) * comb(N-K, n-k) / comb(N,n))\n",
    "print(hypergeom.pmf(k, N, K, n))"
   ]
  },
  {
   "cell_type": "markdown",
   "metadata": {},
   "source": [
    "## Poisson Distribution\n",
    "Popular for modeling the number of times an event occurs in an interval of time or space.\n",
    "\n",
    "A discrete random variable $X$ is said to have a Poisson distribution with parameter $λ > 0$ (need not be integer), if, for $k = 0, 1, 2, ...,$ the probability mass function of $X$ is given by:  \n",
    "$$\n",
    "P(X=k) = \\frac{\\lambda^ke^{-\\lambda}}{k!}\n",
    "$$\n",
    "\n",
    "$\\lambda$ is both the mean and the variance of the distribution.  \n",
    "$\\lambda=E(X)=V(X)$ \n",
    "\n",
    "[scipy](https://docs.scipy.org/doc/scipy/reference/generated/scipy.stats.poisson.html)"
   ]
  },
  {
   "cell_type": "code",
   "execution_count": 33,
   "metadata": {
    "ExecuteTime": {
     "end_time": "2020-03-20T10:11:53.239064Z",
     "start_time": "2020-03-20T10:11:53.233329Z"
    }
   },
   "outputs": [
    {
     "name": "stdout",
     "output_type": "stream",
     "text": [
      "0.03783327480207071\n",
      "0.03783327480207079\n"
     ]
    }
   ],
   "source": [
    "import numpy as np\n",
    "from math import factorial\n",
    "from scipy.stats import poisson \n",
    "\n",
    "lmbda = 10 # mean (and variance) of people entring a store in an hour\n",
    "k = 5 \n",
    "\n",
    "# probability that k people enter the store in an hour\n",
    "print((lmbda ** k) * np.exp(-lmbda) / factorial(k))\n",
    "print(poisson.pmf(k, lmbda))"
   ]
  },
  {
   "cell_type": "code",
   "execution_count": 34,
   "metadata": {
    "ExecuteTime": {
     "end_time": "2020-03-20T10:28:12.544777Z",
     "start_time": "2020-03-20T10:28:12.516208Z"
    }
   },
   "outputs": [
    {
     "data": {
      "text/plain": [
       "2.718281828459045"
      ]
     },
     "execution_count": 34,
     "metadata": {},
     "output_type": "execute_result"
    }
   ],
   "source": [
    "lmbd_A = 0.88\n",
    "#cost_A = 160 + 40*(X**2)\n",
    "lmbd_B = "
   ]
  },
  {
   "cell_type": "markdown",
   "metadata": {},
   "source": [
    "## Normal Distribution\n",
    "(or Gaussian or Gauss or Laplace–Gauss)\n",
    "\n",
    "A type of continuous probability distribution for a real-valued random variable. The general form of its probability density function is:  \n",
    "\n",
    "$$\n",
    "f(x) = \\frac{1}{\\sigma\\sqrt{2\\pi}} e^{- \\frac{1}{2} \\left(\\frac{x-\\mu}{\\sigma}\\right)^2}\n",
    "$$\n",
    "\n",
    "* $\\mu$ mean (median and mode)\n",
    "* $\\sigma$ standard deviation ($\\sigma^2$ is the distribution variance)\n",
    "\n",
    "**Standard Normal Distribution**  \n",
    "Case were $f(\\mu=0, \\sigma=1)$\n",
    "\n",
    "$$\n",
    "\\phi(x) = \\frac{1}{\\sqrt{2\\pi}} e^{- \\frac{1}{2} x^2}\n",
    "$$\n",
    "\n",
    "Conversion  \n",
    "\n",
    "$$\n",
    "f(x) = \\frac{1}{\\sigma} \\phi \\left(\\frac{x-\\mu}{\\sigma} \\right)\n",
    "$$\n",
    "\n",
    "\n",
    "The Cumulative distribution function is\n",
    "\n",
    "$$\n",
    "\\Phi(x) = \\frac{1}{2} \\left(1 + \\text{erf}\\left(\\frac{x-\\mu}{\\sigma \\sqrt{2}}\\right)\\right)\n",
    "$$\n",
    "\n",
    "$$\n",
    "\\text{erf}(z) = \\frac{2}{\\sqrt{\\pi} }\\int_{0}^{z} e^{-x^2} dx\n",
    "$$\n",
    "\n",
    "[math.erf](https://docs.python.org/3/library/math.html#math.erf)"
   ]
  },
  {
   "cell_type": "code",
   "execution_count": 69,
   "metadata": {
    "ExecuteTime": {
     "end_time": "2020-03-20T11:44:46.556815Z",
     "start_time": "2020-03-20T11:44:46.549368Z"
    }
   },
   "outputs": [
    {
     "data": {
      "text/plain": [
       "0.4012936743170763"
      ]
     },
     "execution_count": 69,
     "metadata": {},
     "output_type": "execute_result"
    }
   ],
   "source": [
    "from math import erf, sqrt\n",
    "\n",
    "def phi(x):\n",
    "    'Cumulative distribution function for the standard normal distribution'\n",
    "    return (1.0 + erf(x / sqrt(2.0))) / 2.0\n",
    "\n",
    "def cumulative_norm(x, mu=0, sigma=1):\n",
    "    z = (x-mu)/sigma\n",
    "    \n",
    "    return phi(z)\n",
    "\n",
    "\n",
    "cumulative_norm(19.5, 20, 2)"
   ]
  },
  {
   "cell_type": "code",
   "execution_count": 83,
   "metadata": {
    "ExecuteTime": {
     "end_time": "2020-03-20T11:52:38.141231Z",
     "start_time": "2020-03-20T11:52:38.134314Z"
    }
   },
   "outputs": [
    {
     "data": {
      "text/plain": [
       "0.9544997361036416"
      ]
     },
     "execution_count": 83,
     "metadata": {},
     "output_type": "execute_result"
    }
   ],
   "source": [
    "def cumulative_difference(x2, x1, mu=0, sigma=1):\n",
    "    return cumulative_norm(x2, mu, sigma) - cumulative_norm(x1, mu, sigma)\n",
    "\n",
    "mu = 20\n",
    "sigma = 10\n",
    "nsigma = 2\n",
    "\n",
    "cumulative_difference(mu + nsigma*sigma, mu - nsigma*sigma, mu, sigma)"
   ]
  },
  {
   "cell_type": "code",
   "execution_count": 87,
   "metadata": {
    "ExecuteTime": {
     "end_time": "2020-03-22T08:04:30.324473Z",
     "start_time": "2020-03-22T08:04:30.306449Z"
    }
   },
   "outputs": [
    {
     "data": {
      "text/plain": [
       "10045"
      ]
     },
     "execution_count": 87,
     "metadata": {},
     "output_type": "execute_result"
    }
   ],
   "source": [
    "x = 9800\n",
    "mu = 205\n",
    "sigma = 15\n",
    "n = 49\n",
    "\n",
    "n*mu\n"
   ]
  },
  {
   "cell_type": "code",
   "execution_count": 106,
   "metadata": {
    "ExecuteTime": {
     "end_time": "2020-03-22T08:20:12.719202Z",
     "start_time": "2020-03-22T08:20:12.708762Z"
    }
   },
   "outputs": [
    {
     "name": "stdout",
     "output_type": "stream",
     "text": [
      "240.0 20.0\n"
     ]
    },
    {
     "data": {
      "text/plain": [
       "0.6915"
      ]
     },
     "execution_count": 106,
     "metadata": {},
     "output_type": "execute_result"
    }
   ],
   "source": [
    "x = 250\n",
    "mu = 2.4\n",
    "sigma=2.\n",
    "n = 100\n",
    "\n",
    "mu_ = mu * n\n",
    "sigma_ = sigma * sqrt(n)\n",
    "\n",
    "print(mu_, sigma_)\n",
    "\n",
    "round(cumulative_norm(x, mu_, sigma_),4)"
   ]
  },
  {
   "cell_type": "code",
   "execution_count": 110,
   "metadata": {
    "ExecuteTime": {
     "end_time": "2020-03-22T08:36:49.917263Z",
     "start_time": "2020-03-22T08:36:49.890021Z"
    }
   },
   "outputs": [
    {
     "name": "stdout",
     "output_type": "stream",
     "text": [
      "484.32\n",
      "515.68\n"
     ]
    }
   ],
   "source": [
    "n = 100\n",
    "mu = 500\n",
    "sigma = 80\n",
    "z = 1.96\n",
    "\n",
    "sigma_ = sigma/sqrt(n)\n",
    "\n",
    "print(round(mu - z * sigma_,2))\n",
    "print(round(mu + z * sigma_,2))"
   ]
  },
  {
   "cell_type": "code",
   "execution_count": 109,
   "metadata": {
    "ExecuteTime": {
     "end_time": "2020-03-22T08:25:10.824913Z",
     "start_time": "2020-03-22T08:25:10.819081Z"
    }
   },
   "outputs": [
    {
     "data": {
      "text/plain": [
       "51568.0"
      ]
     },
     "execution_count": 109,
     "metadata": {},
     "output_type": "execute_result"
    }
   ],
   "source": [
    "mu_ + z * sigma_"
   ]
  },
  {
   "cell_type": "code",
   "execution_count": 97,
   "metadata": {
    "ExecuteTime": {
     "end_time": "2020-03-22T08:09:45.144789Z",
     "start_time": "2020-03-22T08:09:45.135032Z"
    }
   },
   "outputs": [
    {
     "data": {
      "text/plain": [
       "0.0098"
      ]
     },
     "execution_count": 97,
     "metadata": {},
     "output_type": "execute_result"
    }
   ],
   "source": [
    "from math import sqrt\n",
    "\n",
    "mu_ = n*mu\n",
    "sigma_ = sigma*sqrt(n)\n",
    "\n",
    "mu_, sigma_\n",
    "\n",
    "round(cumulative_norm(x, mu_, sigma_),4)"
   ]
  },
  {
   "cell_type": "code",
   "execution_count": 99,
   "metadata": {
    "ExecuteTime": {
     "end_time": "2020-03-22T08:11:45.390717Z",
     "start_time": "2020-03-22T08:11:45.380001Z"
    }
   },
   "outputs": [
    {
     "data": {
      "text/plain": [
       "0.15865525393145707"
      ]
     },
     "execution_count": 99,
     "metadata": {},
     "output_type": "execute_result"
    }
   ],
   "source": [
    "mu, sigma = 70, 10\n",
    "x = 80\n",
    "\n",
    "1. - cumulative_norm(x, mu, sigma)"
   ]
  }
 ],
 "metadata": {
  "kernelspec": {
   "display_name": "Python 3",
   "language": "python",
   "name": "python3"
  },
  "language_info": {
   "codemirror_mode": {
    "name": "ipython",
    "version": 3
   },
   "file_extension": ".py",
   "mimetype": "text/x-python",
   "name": "python",
   "nbconvert_exporter": "python",
   "pygments_lexer": "ipython3",
   "version": "3.7.3"
  },
  "toc": {
   "colors": {
    "hover_highlight": "#DAA520",
    "running_highlight": "#FF0000",
    "selected_highlight": "#FFD700"
   },
   "moveMenuLeft": true,
   "nav_menu": {
    "height": "177.6px",
    "width": "252px"
   },
   "navigate_menu": true,
   "number_sections": true,
   "sideBar": true,
   "threshold": 4,
   "toc_cell": false,
   "toc_section_display": "block",
   "toc_window_display": true,
   "widenNotebook": false
  }
 },
 "nbformat": 4,
 "nbformat_minor": 2
}
