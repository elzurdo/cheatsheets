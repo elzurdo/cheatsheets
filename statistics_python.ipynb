{
 "cells": [
  {
   "cell_type": "markdown",
   "metadata": {},
   "source": [
    "# Combinatorics\n",
    "\n",
    "## Permutations \n",
    "When order matters\n",
    "\n",
    "An ordered arrangement of $k$ objects from a set of $n$\n",
    "\n",
    "$$\n",
    "_nP_k=\\frac{n!}{(n-k)!}\n",
    "$$"
   ]
  },
  {
   "cell_type": "code",
   "execution_count": 54,
   "metadata": {
    "ExecuteTime": {
     "end_time": "2020-03-20T10:34:17.199450Z",
     "start_time": "2020-03-20T10:34:17.189851Z"
    }
   },
   "outputs": [
    {
     "name": "stdout",
     "output_type": "stream",
     "text": [
      "2432902008176640000\n",
      "2432902008176640000\n"
     ]
    }
   ],
   "source": [
    "from math import factorial\n",
    "\n",
    "def simplistic_factorial(n):\n",
    "    assert isinstance(n, int)\n",
    "    \n",
    "    if n == 0:\n",
    "        return 1\n",
    "    \n",
    "    factor = simplistic_factorial(n-1)\n",
    "    \n",
    "    return factor * n\n",
    "    \n",
    "k = 20\n",
    "\n",
    "print(factorial(k))\n",
    "print(simplistic_factorial(k))"
   ]
  },
  {
   "cell_type": "code",
   "execution_count": 9,
   "metadata": {
    "ExecuteTime": {
     "end_time": "2020-03-18T15:03:21.555751Z",
     "start_time": "2020-03-18T15:03:21.539696Z"
    }
   },
   "outputs": [
    {
     "data": {
      "text/plain": [
       "30"
      ]
     },
     "execution_count": 9,
     "metadata": {},
     "output_type": "execute_result"
    }
   ],
   "source": [
    "n = 6\n",
    "k = 2\n",
    "\n",
    "int(factorial(n)/factorial(n - k))"
   ]
  },
  {
   "cell_type": "code",
   "execution_count": 3,
   "metadata": {
    "ExecuteTime": {
     "end_time": "2020-03-18T14:58:46.957026Z",
     "start_time": "2020-03-18T14:58:46.950210Z"
    }
   },
   "outputs": [
    {
     "name": "stdout",
     "output_type": "stream",
     "text": [
      "[(1, 2, 3), (1, 3, 2), (2, 1, 3), (2, 3, 1), (3, 1, 2), (3, 2, 1)]\n",
      "[(1, 2), (1, 3), (2, 1), (2, 3), (3, 1), (3, 2)]\n",
      "[(1, 1), (1, 3), (1, 1), (1, 3), (3, 1), (3, 1)]\n"
     ]
    }
   ],
   "source": [
    "from itertools import permutations \n",
    "\n",
    "\n",
    "# All permutations of [1, 2, 3] \n",
    "print(list(permutations([1, 2, 3])))\n",
    "\n",
    "# All permutations of pairs consisting of [1, 2, 3] \n",
    "print(list(permutations([1, 2, 3], 2)))\n",
    "\n",
    "# All permutations of pairs consisting of [1, 1, 3] \n",
    "print(list(permutations([1, 1, 3], 2)))"
   ]
  },
  {
   "cell_type": "markdown",
   "metadata": {},
   "source": [
    "## Combinations\n",
    "When order does not matter\n",
    "\n",
    "Aan unordered arrangement of $k$ objects from a set of $n$\n",
    "$$\n",
    "_nC_k=\\frac{n!}{(n-k)!k!}\\equiv {n \\choose k}\n",
    "$$"
   ]
  },
  {
   "cell_type": "code",
   "execution_count": 4,
   "metadata": {
    "ExecuteTime": {
     "end_time": "2020-03-18T14:59:01.141849Z",
     "start_time": "2020-03-18T14:59:00.887495Z"
    }
   },
   "outputs": [],
   "source": [
    "from scipy.special import comb"
   ]
  },
  {
   "cell_type": "code",
   "execution_count": 5,
   "metadata": {
    "ExecuteTime": {
     "end_time": "2020-03-18T14:59:02.847045Z",
     "start_time": "2020-03-18T14:59:02.839818Z"
    }
   },
   "outputs": [
    {
     "name": "stdout",
     "output_type": "stream",
     "text": [
      "15\n",
      "15\n"
     ]
    }
   ],
   "source": [
    "n = 6\n",
    "k = 2\n",
    "\n",
    "print(int(factorial(n)/factorial(k)/factorial(n-k)))\n",
    "print(int(comb(n, k, repetition=False)))"
   ]
  },
  {
   "cell_type": "code",
   "execution_count": 6,
   "metadata": {
    "ExecuteTime": {
     "end_time": "2020-03-18T14:59:15.426666Z",
     "start_time": "2020-03-18T14:59:15.421751Z"
    }
   },
   "outputs": [
    {
     "name": "stdout",
     "output_type": "stream",
     "text": [
      "[(1, 2), (1, 3), (2, 3)]\n",
      "[(1, 1), (1, 3), (1, 3)]\n"
     ]
    }
   ],
   "source": [
    "from itertools import combinations \n",
    "\n",
    "# All combinations of pairs consisting of [1, 2, 3] \n",
    "print(list(combinations([1, 2, 3], 2)))\n",
    "# All combinations of pairs consisting of [1, 1, 3] \n",
    "print(list(combinations([1, 1, 3], 2)))"
   ]
  },
  {
   "cell_type": "markdown",
   "metadata": {},
   "source": [
    "# Probabilities"
   ]
  },
  {
   "cell_type": "markdown",
   "metadata": {
    "ExecuteTime": {
     "end_time": "2020-03-21T13:17:57.554255Z",
     "start_time": "2020-03-21T13:17:57.539926Z"
    }
   },
   "source": [
    "$P(A)$ - Marginal Probability of event $A$\n",
    "\n",
    "**Compound event**  \n",
    "combination of 2 or more events  \n",
    "$P(A\\cap B)\\equiv P(A, B)$ - Joint Probability of events $A$ and $B$ ( `and` rule - think Venn Diagram)   \n",
    "$P(A|B)$ - Conditional Probability (of $A$ happening given $B$ occured)  \n",
    "$P(A\\cap B) = P(A|B)P(B)$ - Chain rule\n",
    "$$\n",
    " P(A|B) = \\frac{P(A\\cap B)}{P(B)}\n",
    "$$\n",
    "\n",
    "$P(A\\cup B) = P(A) + P(B) - P(A\\cap B)$  (`or` rule - think Venn Diagram)\n",
    "\n",
    "**Event Relationships**  \n",
    "$P(A|B) = P(A)$ - When $A$ is *independent* of $B$.  \n",
    "$P(A \\cup B) = P(A)+P(B)$ - When $A$ and $B$ are *disjoint* events ($P(A\\cap B)=0$)    \n",
    "$P(A \\cup B)=1$ - When $A$ and $B$ are *mutually exhaustive*  \n",
    "\n",
    "**Bayes' Theorem** \n",
    "$$\n",
    "P(A|B) = \\frac{P(B|A)P(A)}{P(B)} = \\frac{P(B|A)P(A)}{P(B|A)P(A) + P(B|A^c)P(A^c)}\n",
    "$$\n",
    "\n",
    "Model form:  \n",
    "$$\n",
    "P(\\Theta|\\text{data}) = \\frac{P(\\text{data}|\\Theta)P(\\Theta)}{P(\\text{data})}\n",
    "$$\n",
    "\n",
    "\n",
    "$P(\\Theta|\\text{data})$ - posterior distribution of parameters $\\Theta$ given `data` has been observed    \n",
    "$P(\\Theta)$ - prior distribution of parameters $\\Theta$   \n",
    "$P(\\text{data}|\\Theta)$ - the likelihood distribution $L(\\text{data})$. \n"
   ]
  },
  {
   "cell_type": "markdown",
   "metadata": {},
   "source": [
    "# Discrete Random Variables\n",
    "\n",
    "## Variance\n",
    "\n",
    "For descrete variables\n",
    "$$\n",
    "\\text{Var}(X) = \\text{E}[(X-\\text{E}[X])^2] = \\text{E}[X^2] - \\text{E}[X]^2\n",
    "$$"
   ]
  },
  {
   "cell_type": "markdown",
   "metadata": {},
   "source": [
    "# Distributions\n",
    "\n",
    "**Cumulative Probability**\n",
    "\n",
    "The cumulative distribution function of real-valued random variable $X$ evaluated at $x$  is the probability that $X$ will take a value less than or equal to $x$:\n",
    "$$\n",
    "F_X(x) = P(X\\le x)\n",
    "$$\n",
    "\n",
    "also\n",
    "$$\n",
    "P(a \\le X\\le b) = F_X(b)- F_X(a)\n",
    "$$"
   ]
  },
  {
   "cell_type": "markdown",
   "metadata": {},
   "source": [
    "## Bernouli/Binomial \n",
    "\n",
    "### Binomial Experiment\n",
    "Also called Bernoulli trial\n",
    "\n",
    "A statistical experiment that has the following properties:  \n",
    "* The experiment consists of  repeated trials.\n",
    "* The trials are independent.\n",
    "* The outcome of each trial is either success ($s$) or failure ($f$).\n",
    "\n",
    "### Binomial Distribution \n",
    "Also called Bernouli \n",
    "\n",
    "The probability distribution of $k$  successes in $n$ independent Bernoulli experiments, each with probability of success $p$. \n",
    "\n",
    "Probability mass function:\n",
    "$$\n",
    "b(k,n,p) = {n \\choose k} p^k (1-p)^{(n-k)}\n",
    "$$\n",
    "\n",
    "It is often used to model the number successes in sample size ***with replacement*** from a population size $N$ (for without replacement see [Hypergeometric Distribution](#Hypergeometric-Distribution))\n",
    "\n",
    "**Bernouli Distribution**  \n",
    "Is a specific case of Binomial of $b(k,1,p)$ where $k=0,1$.\n",
    "\n",
    "Probability mass function:\n",
    "$$\n",
    "b(k,1,p) = {1 \\choose k} p^k (1-p)^{(1-k)}\n",
    "$$"
   ]
  },
  {
   "cell_type": "code",
   "execution_count": 7,
   "metadata": {
    "ExecuteTime": {
     "end_time": "2020-03-18T14:59:28.203564Z",
     "start_time": "2020-03-18T14:59:28.196740Z"
    }
   },
   "outputs": [
    {
     "data": {
      "text/plain": [
       "0.24609375"
      ]
     },
     "execution_count": 7,
     "metadata": {},
     "output_type": "execute_result"
    }
   ],
   "source": [
    "from scipy.special import comb\n",
    "\n",
    "# probability of k successes in n trials\n",
    "p = 0.5\n",
    "n = 10\n",
    "k = 5\n",
    "\n",
    "comb(n, k) * (p**k) * ( (1-p)**(n-k))"
   ]
  },
  {
   "cell_type": "code",
   "execution_count": 8,
   "metadata": {
    "ExecuteTime": {
     "end_time": "2020-03-18T15:00:45.174695Z",
     "start_time": "2020-03-18T15:00:45.165581Z"
    }
   },
   "outputs": [
    {
     "data": {
      "text/plain": [
       "0.623046875"
      ]
     },
     "execution_count": 8,
     "metadata": {},
     "output_type": "execute_result"
    }
   ],
   "source": [
    "pp = 0  # probability of having k successes within ks of n trials\n",
    "\n",
    "#ks = [5, 6, 7, 8, 9, 10]\n",
    "ks = [0, 1, 2, 3, 4, 5]\n",
    "\n",
    "for k in ks:\n",
    "    pp += comb(n, k) * (p**k) * ( (1-p)**(n-k))\n",
    "    \n",
    "pp"
   ]
  },
  {
   "cell_type": "markdown",
   "metadata": {},
   "source": [
    "\n",
    "\n",
    "### Geometric Distribution \n",
    "One of two descrete distributions:\n",
    "* The probability distribution of the number $X$ of Bernoulli trials needed to get one success, supported on the set $k = \\{1, 2, 3, ... \\}$.\n",
    "\n",
    "$$\n",
    "Pr(X=k) = (1-p)^{k-1}p, \\ \\ \\ \\ \\ \\text{for} \\ k=1,2,3...\n",
    "$$\n",
    "\n",
    "* The probability distribution of the number $Y = X − 1$ of failures before the first success, supported on the set $k = \\{ 0, 1, 2, ... \\}$\n",
    "$$\n",
    "Pr(Y=k) = (1-p)^kp, \\ \\ \\ \\ \\ \\text{for} \\ k=0,1,2,...\n",
    "$$\n",
    "\n",
    "\n",
    "\n",
    "Which of these one calls \"the\" geometric distribution is a matter of convention and convenience.\n",
    "\n",
    "In either case, the sequence of probabilities is a geometric sequence (i.e, $r^k$)\n",
    "\n",
    "**Requirements**  \n",
    "* The phenomenon being modeled is a sequence of independent trials.\n",
    "* There are only two possible outcomes for each trial, often designated success or failure.\n",
    "* The probability of success, $p$, is the same for every trial.\n",
    "\n",
    "\n",
    "**Related**    \n",
    "Negative Binomial Experiment,  Negative Binomial Distribution\n"
   ]
  },
  {
   "cell_type": "code",
   "execution_count": 91,
   "metadata": {
    "ExecuteTime": {
     "end_time": "2020-03-18T14:45:57.806542Z",
     "start_time": "2020-03-18T14:45:57.781987Z"
    }
   },
   "outputs": [
    {
     "name": "stdout",
     "output_type": "stream",
     "text": [
      "0.0625\n"
     ]
    },
    {
     "data": {
      "text/plain": [
       "0.0625"
      ]
     },
     "execution_count": 91,
     "metadata": {},
     "output_type": "execute_result"
    }
   ],
   "source": [
    "p = 1/2. # probability of giving birth to a girl\n",
    "\n",
    "# probability of giving birth to a girl on the 4th try\n",
    "k = 4  \n",
    "print((1-p)**(k-1)*p)\n",
    "\n",
    "# probability of having 3 boys before the first girl\n",
    "k = 3\n",
    "(1-p)**k * p"
   ]
  },
  {
   "cell_type": "code",
   "execution_count": 104,
   "metadata": {
    "ExecuteTime": {
     "end_time": "2020-03-18T14:53:50.206569Z",
     "start_time": "2020-03-18T14:53:50.198745Z"
    }
   },
   "outputs": [
    {
     "name": "stdout",
     "output_type": "stream",
     "text": [
      "0.8683127572016461\n",
      "0.868312757201646\n"
     ]
    }
   ],
   "source": [
    "p = 1./3  # probability of failing an inspection\n",
    "\n",
    "pp = 0    # What is the probability that the 1st defect is found during the first 5 inspections?\n",
    "\n",
    "max_k = 5\n",
    "for k in range(0, max_k):\n",
    "    pp += (1-p)**k * p    \n",
    "\n",
    "print(pp)\n",
    "\n",
    "# better method (imagine max_k>1000)\n",
    "pp_inv = (1-p)**max_k # probablity that passing inspection in all 5 inspections\n",
    "print(1- pp_inv)\n"
   ]
  },
  {
   "cell_type": "markdown",
   "metadata": {},
   "source": [
    "### Hypergeometric Distribution\n",
    "\n",
    "The probability of sampling ***without replacement*** $k$ successes in a sample of $n$ from a population of total $N$ and $K$ total successes.\n",
    "\n",
    "Probability Mass Function:\n",
    "$$\n",
    "P(X=k) = \\frac{ {K \\choose k} { {N-K} \\choose {n-k} } }{N \\choose n}\n",
    "$$"
   ]
  },
  {
   "cell_type": "code",
   "execution_count": 25,
   "metadata": {
    "ExecuteTime": {
     "end_time": "2020-03-20T09:59:09.125756Z",
     "start_time": "2020-03-20T09:59:09.118547Z"
    }
   },
   "outputs": [
    {
     "name": "stdout",
     "output_type": "stream",
     "text": [
      "0.10812795900674416\n",
      "0.1081279590067445\n"
     ]
    }
   ],
   "source": [
    "# Example: extracting balls from an urn, \n",
    "# where the balls are either green (success) or red. \n",
    "from scipy.special import comb\n",
    "from scipy.stats import hypergeom\n",
    "\n",
    "N=100  # total balls\n",
    "K=60   # red balls\n",
    "n=10   # choosing total 10 balls\n",
    "k=4    # of which are red\n",
    "\n",
    "print(comb(K,k) * comb(N-K, n-k) / comb(N,n))\n",
    "print(hypergeom.pmf(k, N, K, n))"
   ]
  },
  {
   "cell_type": "markdown",
   "metadata": {},
   "source": [
    "## Poisson Distribution\n",
    "Popular for modeling the number of times an event occurs in an interval of time or space.\n",
    "\n",
    "A discrete random variable $X$ is said to have a Poisson distribution with parameter $λ > 0$ (need not be integer), if, for $k = 0, 1, 2, ...,$ the probability mass function of $X$ is given by:  \n",
    "$$\n",
    "P(X=k) = \\frac{\\lambda^ke^{-\\lambda}}{k!}\n",
    "$$\n",
    "\n",
    "$\\lambda$ is both the mean and the variance of the distribution.  \n",
    "$\\lambda=E(X)=V(X)$ \n",
    "\n",
    "[scipy](https://docs.scipy.org/doc/scipy/reference/generated/scipy.stats.poisson.html)"
   ]
  },
  {
   "cell_type": "code",
   "execution_count": 33,
   "metadata": {
    "ExecuteTime": {
     "end_time": "2020-03-20T10:11:53.239064Z",
     "start_time": "2020-03-20T10:11:53.233329Z"
    }
   },
   "outputs": [
    {
     "name": "stdout",
     "output_type": "stream",
     "text": [
      "0.03783327480207071\n",
      "0.03783327480207079\n"
     ]
    }
   ],
   "source": [
    "import numpy as np\n",
    "from math import factorial\n",
    "from scipy.stats import poisson \n",
    "\n",
    "lmbda = 10 # mean (and variance) of people entring a store in an hour\n",
    "k = 5 \n",
    "\n",
    "# probability that k people enter the store in an hour\n",
    "print((lmbda ** k) * np.exp(-lmbda) / factorial(k))\n",
    "print(poisson.pmf(k, lmbda))"
   ]
  },
  {
   "cell_type": "code",
   "execution_count": 34,
   "metadata": {
    "ExecuteTime": {
     "end_time": "2020-03-20T10:28:12.544777Z",
     "start_time": "2020-03-20T10:28:12.516208Z"
    }
   },
   "outputs": [
    {
     "data": {
      "text/plain": [
       "2.718281828459045"
      ]
     },
     "execution_count": 34,
     "metadata": {},
     "output_type": "execute_result"
    }
   ],
   "source": [
    "lmbd_A = 0.88\n",
    "#cost_A = 160 + 40*(X**2)\n",
    "lmbd_B = "
   ]
  },
  {
   "cell_type": "markdown",
   "metadata": {},
   "source": [
    "## Normal Distribution\n",
    "(or Gaussian or Gauss or Laplace–Gauss)\n",
    "\n",
    "A type of continuous probability distribution for a real-valued random variable. The general form of its probability density function is:  \n",
    "\n",
    "$$\n",
    "f(x) = \\frac{1}{\\sigma\\sqrt{2\\pi}} e^{- \\frac{1}{2} \\left(\\frac{x-\\mu}{\\sigma}\\right)^2}\n",
    "$$\n",
    "\n",
    "* $\\mu$ mean (median and mode)\n",
    "* $\\sigma$ standard deviation ($\\sigma^2$ is the distribution variance)\n",
    "\n",
    "**Standard Normal Distribution**  \n",
    "Case were $f(\\mu=0, \\sigma=1)$\n",
    "\n",
    "$$\n",
    "\\phi(x) = \\frac{1}{\\sqrt{2\\pi}} e^{- \\frac{1}{2} x^2}\n",
    "$$\n",
    "\n",
    "Conversion  \n",
    "\n",
    "$$\n",
    "f(x) = \\frac{1}{\\sigma} \\phi \\left(\\frac{x-\\mu}{\\sigma} \\right)\n",
    "$$\n",
    "\n",
    "\n",
    "The Cumulative distribution function is\n",
    "\n",
    "$$\n",
    "\\Phi(x) = \\frac{1}{2} \\left(1 + \\text{erf}\\left(\\frac{x-\\mu}{\\sigma \\sqrt{2}}\\right)\\right)\n",
    "$$\n",
    "\n",
    "$$\n",
    "\\text{erf}(z) = \\frac{2}{\\sqrt{\\pi} }\\int_{0}^{z} e^{-x^2} dx\n",
    "$$\n",
    "\n",
    "[math.erf](https://docs.python.org/3/library/math.html#math.erf)"
   ]
  },
  {
   "cell_type": "code",
   "execution_count": 69,
   "metadata": {
    "ExecuteTime": {
     "end_time": "2020-03-20T11:44:46.556815Z",
     "start_time": "2020-03-20T11:44:46.549368Z"
    }
   },
   "outputs": [
    {
     "data": {
      "text/plain": [
       "0.4012936743170763"
      ]
     },
     "execution_count": 69,
     "metadata": {},
     "output_type": "execute_result"
    }
   ],
   "source": [
    "from math import erf, sqrt\n",
    "\n",
    "def phi(x):\n",
    "    'Cumulative distribution function for the standard normal distribution'\n",
    "    return (1.0 + erf(x / sqrt(2.0))) / 2.0\n",
    "\n",
    "def cumulative_norm(x, mu=0, sigma=1):\n",
    "    z = (x-mu)/sigma\n",
    "    \n",
    "    return phi(z)\n",
    "\n",
    "\n",
    "cumulative_norm(19.5, 20, 2)"
   ]
  },
  {
   "cell_type": "code",
   "execution_count": 83,
   "metadata": {
    "ExecuteTime": {
     "end_time": "2020-03-20T11:52:38.141231Z",
     "start_time": "2020-03-20T11:52:38.134314Z"
    }
   },
   "outputs": [
    {
     "data": {
      "text/plain": [
       "0.9544997361036416"
      ]
     },
     "execution_count": 83,
     "metadata": {},
     "output_type": "execute_result"
    }
   ],
   "source": [
    "def cumulative_difference(x2, x1, mu=0, sigma=1):\n",
    "    return cumulative_norm(x2, mu, sigma) - cumulative_norm(x1, mu, sigma)\n",
    "\n",
    "mu = 20\n",
    "sigma = 10\n",
    "nsigma = 2\n",
    "\n",
    "cumulative_difference(mu + nsigma*sigma, mu - nsigma*sigma, mu, sigma)"
   ]
  }
 ],
 "metadata": {
  "kernelspec": {
   "display_name": "Python 3",
   "language": "python",
   "name": "python3"
  },
  "language_info": {
   "codemirror_mode": {
    "name": "ipython",
    "version": 3
   },
   "file_extension": ".py",
   "mimetype": "text/x-python",
   "name": "python",
   "nbconvert_exporter": "python",
   "pygments_lexer": "ipython3",
   "version": "3.7.3"
  },
  "toc": {
   "colors": {
    "hover_highlight": "#DAA520",
    "running_highlight": "#FF0000",
    "selected_highlight": "#FFD700"
   },
   "moveMenuLeft": true,
   "nav_menu": {
    "height": "177.6px",
    "width": "252px"
   },
   "navigate_menu": true,
   "number_sections": true,
   "sideBar": true,
   "threshold": 4,
   "toc_cell": false,
   "toc_section_display": "block",
   "toc_window_display": true,
   "widenNotebook": false
  }
 },
 "nbformat": 4,
 "nbformat_minor": 2
}
